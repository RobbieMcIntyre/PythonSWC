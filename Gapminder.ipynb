{
 "cells": [
  {
   "cell_type": "markdown",
   "metadata": {},
   "source": [
    "This is our python workbook"
   ]
  },
  {
   "cell_type": "code",
   "execution_count": 7,
   "metadata": {},
   "outputs": [],
   "source": [
    "age = 29\n",
    "firstName = 'Jane'\n",
    "lastName = 'Smith'"
   ]
  },
  {
   "cell_type": "code",
   "execution_count": 322,
   "metadata": {},
   "outputs": [
    {
     "name": "stdout",
     "output_type": "stream",
     "text": [
      "Jane is 713 years old.\n",
      "716\n"
     ]
    }
   ],
   "source": [
    "print(firstName, 'is', age, 'years old.')\n",
    "age = age + 3\n",
    "print (age)"
   ]
  },
  {
   "cell_type": "code",
   "execution_count": 324,
   "metadata": {},
   "outputs": [
    {
     "name": "stdout",
     "output_type": "stream",
     "text": [
      "he\n",
      "6\n"
     ]
    }
   ],
   "source": [
    "atom_name = 'helium'\n",
    "print(atom_name [0:2])\n",
    "print(len(atom_name))"
   ]
  },
  {
   "cell_type": "code",
   "execution_count": 326,
   "metadata": {},
   "outputs": [
    {
     "name": "stdout",
     "output_type": "stream",
     "text": [
      "<class 'str'>\n"
     ]
    }
   ],
   "source": [
    "print(type(atom_name))"
   ]
  },
  {
   "cell_type": "code",
   "execution_count": 333,
   "metadata": {},
   "outputs": [
    {
     "name": "stdout",
     "output_type": "stream",
     "text": [
      "12\n"
     ]
    },
    {
     "data": {
      "text/plain": [
       "str"
      ]
     },
     "execution_count": 333,
     "metadata": {},
     "output_type": "execute_result"
    }
   ],
   "source": [
    "full_Name = str(1) + '2'\n",
    "print(full_Name)\n",
    "type(full_Name)"
   ]
  },
  {
   "cell_type": "markdown",
   "metadata": {},
   "source": [
    "Let's import some modules"
   ]
  },
  {
   "cell_type": "code",
   "execution_count": 339,
   "metadata": {},
   "outputs": [
    {
     "name": "stdout",
     "output_type": "stream",
     "text": [
      "pi = 3.141592653589793\n",
      "cos(pi) = -1.0\n"
     ]
    }
   ],
   "source": [
    "from math import cos, pi\n",
    "\n",
    "print('pi =', pi)\n",
    "print('cos(pi) =', cos(pi))"
   ]
  },
  {
   "cell_type": "code",
   "execution_count": null,
   "metadata": {},
   "outputs": [],
   "source": []
  },
  {
   "cell_type": "code",
   "execution_count": 358,
   "metadata": {},
   "outputs": [
    {
     "name": "stdout",
     "output_type": "stream",
     "text": [
      "country           Australia  New Zealand\n",
      "gdpPercap_1952  10039.59564  10556.57566\n",
      "gdpPercap_1957  10949.64959  12247.39532\n",
      "gdpPercap_1962  12217.22686  13175.67800\n",
      "gdpPercap_1967  14526.12465  14463.91893\n",
      "gdpPercap_1972  16788.62948  16046.03728\n",
      "gdpPercap_1977  18334.19751  16233.71770\n",
      "gdpPercap_1982  19477.00928  17632.41040\n",
      "gdpPercap_1987  21888.88903  19007.19129\n",
      "gdpPercap_1992  23424.76683  18363.32494\n",
      "gdpPercap_1997  26997.93657  21050.41377\n",
      "gdpPercap_2002  30687.75473  23189.80135\n",
      "gdpPercap_2007  34435.36744  25185.00911\n"
     ]
    }
   ],
   "source": [
    "import pandas as pd\n",
    "\n",
    "data = pd.read_csv('gapminder_gdp_oceania.csv', index_col='country')\n",
    "print(data.T)"
   ]
  },
  {
   "cell_type": "code",
   "execution_count": 361,
   "metadata": {},
   "outputs": [
    {
     "name": "stdout",
     "output_type": "stream",
     "text": [
      "       gdpPercap_1952  gdpPercap_1957  gdpPercap_1962  gdpPercap_1967  \\\n",
      "count        2.000000        2.000000        2.000000        2.000000   \n",
      "mean     10298.085650    11598.522455    12696.452430    14495.021790   \n",
      "std        365.560078      917.644806      677.727301       43.986086   \n",
      "min      10039.595640    10949.649590    12217.226860    14463.918930   \n",
      "25%      10168.840645    11274.086022    12456.839645    14479.470360   \n",
      "50%      10298.085650    11598.522455    12696.452430    14495.021790   \n",
      "75%      10427.330655    11922.958888    12936.065215    14510.573220   \n",
      "max      10556.575660    12247.395320    13175.678000    14526.124650   \n",
      "\n",
      "       gdpPercap_1972  gdpPercap_1977  gdpPercap_1982  gdpPercap_1987  \\\n",
      "count         2.00000        2.000000        2.000000        2.000000   \n",
      "mean      16417.33338    17283.957605    18554.709840    20448.040160   \n",
      "std         525.09198     1485.263517     1304.328377     2037.668013   \n",
      "min       16046.03728    16233.717700    17632.410400    19007.191290   \n",
      "25%       16231.68533    16758.837652    18093.560120    19727.615725   \n",
      "50%       16417.33338    17283.957605    18554.709840    20448.040160   \n",
      "75%       16602.98143    17809.077557    19015.859560    21168.464595   \n",
      "max       16788.62948    18334.197510    19477.009280    21888.889030   \n",
      "\n",
      "       gdpPercap_1992  gdpPercap_1997  gdpPercap_2002  gdpPercap_2007  \n",
      "count        2.000000        2.000000        2.000000        2.000000  \n",
      "mean     20894.045885    24024.175170    26938.778040    29810.188275  \n",
      "std       3578.979883     4205.533703     5301.853680     6540.991104  \n",
      "min      18363.324940    21050.413770    23189.801350    25185.009110  \n",
      "25%      19628.685413    22537.294470    25064.289695    27497.598692  \n",
      "50%      20894.045885    24024.175170    26938.778040    29810.188275  \n",
      "75%      22159.406358    25511.055870    28813.266385    32122.777857  \n",
      "max      23424.766830    26997.936570    30687.754730    34435.367440  \n"
     ]
    }
   ],
   "source": [
    "print(data.describe())\n"
   ]
  },
  {
   "cell_type": "code",
   "execution_count": 375,
   "metadata": {},
   "outputs": [
    {
     "name": "stdout",
     "output_type": "stream",
     "text": [
      "         gdpPercap_1952  gdpPercap_1957  gdpPercap_1962  gdpPercap_1967  \\\n",
      "country                                                                   \n",
      "Albania     1601.056136     1942.284244     2312.888958     2760.196931   \n",
      "Austria     6137.076492     8842.598030    10750.721110    12834.602400   \n",
      "Belgium     8343.105127     9714.960623    10991.206760    13149.041190   \n",
      "\n",
      "         gdpPercap_1972  \n",
      "country                  \n",
      "Albania     3313.422188  \n",
      "Austria    16661.625600  \n",
      "Belgium    16672.143560  \n"
     ]
    }
   ],
   "source": [
    "data_Europe = pd.read_csv('gapminder_gdp_europe.csv', index_col='country')\n",
    "print(data_Europe.loc[\"Albania\":\"Belgium\",\"gdpPercap_1952\":\"gdpPercap_1972\"])"
   ]
  },
  {
   "cell_type": "code",
   "execution_count": 377,
   "metadata": {},
   "outputs": [
    {
     "data": {
      "text/plain": [
       "Text(0,0.5,'position (m)')"
      ]
     },
     "execution_count": 377,
     "metadata": {},
     "output_type": "execute_result"
    },
    {
     "data": {
      "image/png": "[encoded data removed]",
      "text/plain": [
       "<Figure size 432x288 with 1 Axes>"
      ]
     },
     "metadata": {},
     "output_type": "display_data"
    }
   ],
   "source": [
    "%matplotlib inline\n",
    "import matplotlib.pyplot as plt\n",
    "\n",
    "time = [0,1,2,3]\n",
    "position = [0,100,200,300]\n",
    "\n",
    "plt.plot(time, position)\n",
    "plt.xlabel('time (hr)')\n",
    "plt.ylabel('position (m)')"
   ]
  },
  {
   "cell_type": "code",
   "execution_count": 393,
   "metadata": {},
   "outputs": [
    {
     "data": {
      "text/plain": [
       "<matplotlib.axes._subplots.AxesSubplot at 0xa18f2e8>"
      ]
     },
     "execution_count": 393,
     "metadata": {},
     "output_type": "execute_result"
    },
    {
     "data": {
      "image/png": "[encoded data removed]",
      "text/plain": [
       "<Figure size 432x288 with 1 Axes>"
      ]
     },
     "metadata": {},
     "output_type": "display_data"
    }
   ],
   "source": [
    "%matplotlib inline\n",
    "import pandas as pd\n",
    "import matplotlib as plt\n",
    "\n",
    "#read in the çsv data\n",
    "data_full = pd.read_csv('gapminder_gdp_oceania.csv', index_col='country')\n",
    "#print(data_full)\n",
    "\n",
    "#Extract year from last 4 characters of each column name\n",
    "years = data_full.columns.str.strip('gdpPercap_')\n",
    "#print(years)\n",
    "\n",
    "#convert year values to integers, then save the results back into the data frame.\n",
    "data_full.columns = years.astype(int)\n",
    "\n",
    "data_full.T.plot()"
   ]
  },
  {
   "cell_type": "markdown",
   "metadata": {},
   "source": [
    "Using for loops and globs"
   ]
  },
  {
   "cell_type": "code",
   "execution_count": 398,
   "metadata": {},
   "outputs": [
    {
     "name": "stdout",
     "output_type": "stream",
     "text": [
      "gapminder_gdp_africa.csv <bound method DataFrame.min of                           gdpPercap_1952  gdpPercap_1957  gdpPercap_1962  \\\n",
      "country                                                                    \n",
      "Algeria                      2449.008185     3013.976023     2550.816880   \n",
      "Angola                       3520.610273     3827.940465     4269.276742   \n",
      "Benin                        1062.752200      959.601080      949.499064   \n",
      "Botswana                      851.241141      918.232535      983.653976   \n",
      "Burkina Faso                  543.255241      617.183465      722.512021   \n",
      "Burundi                       339.296459      379.564628      355.203227   \n",
      "Cameroon                     1172.667655     1313.048099     1399.607441   \n",
      "Central African Republic     1071.310713     1190.844328     1193.068753   \n",
      "Chad                         1178.665927     1308.495577     1389.817618   \n",
      "Comoros                      1102.990936     1211.148548     1406.648278   \n",
      "Congo Dem. Rep.               780.542326      905.860230      896.314634   \n",
      "Congo Rep.                   2125.621418     2315.056572     2464.783157   \n",
      "Cote d'Ivoire                1388.594732     1500.895925     1728.869428   \n",
      "Djibouti                     2669.529475     2864.969076     3020.989263   \n",
      "Egypt                        1418.822445     1458.915272     1693.335853   \n",
      "Equatorial Guinea             375.643123      426.096408      582.841971   \n",
      "Eritrea                       328.940557      344.161886      380.995843   \n",
      "Ethiopia                      362.146280      378.904163      419.456416   \n",
      "Gabon                        4293.476475     4976.198099     6631.459222   \n",
      "Gambia                        485.230659      520.926711      599.650276   \n",
      "Ghana                         911.298937     1043.561537     1190.041118   \n",
      "Guinea                        510.196492      576.267025      686.373674   \n",
      "Guinea-Bissau                 299.850319      431.790457      522.034373   \n",
      "Kenya                         853.540919      944.438315      896.966373   \n",
      "Lesotho                       298.846212      335.997115      411.800627   \n",
      "Liberia                       575.572996      620.969990      634.195163   \n",
      "Libya                        2387.548060     3448.284395     6757.030816   \n",
      "Madagascar                   1443.011715     1589.202750     1643.387110   \n",
      "Malawi                        369.165080      416.369806      427.901086   \n",
      "Mali                          452.336981      490.382187      496.174343   \n",
      "Mauritania                    743.115910      846.120261     1055.896036   \n",
      "Mauritius                    1967.955707     2034.037981     2529.067487   \n",
      "Morocco                      1688.203570     1642.002314     1566.353493   \n",
      "Mozambique                    468.526038      495.586833      556.686354   \n",
      "Namibia                      2423.780443     2621.448058     3173.215595   \n",
      "Niger                         761.879376      835.523403      997.766113   \n",
      "Nigeria                      1077.281856     1100.592563     1150.927478   \n",
      "Reunion                      2718.885295     2769.451844     3173.723340   \n",
      "Rwanda                        493.323875      540.289398      597.473073   \n",
      "Sao Tome and Principe         879.583586      860.736903     1071.551119   \n",
      "Senegal                      1450.356983     1567.653006     1654.988723   \n",
      "Sierra Leone                  879.787736     1004.484437     1116.639877   \n",
      "Somalia                      1135.749842     1258.147413     1369.488336   \n",
      "South Africa                 4725.295531     5487.104219     5768.729717   \n",
      "Sudan                        1615.991129     1770.337074     1959.593767   \n",
      "Swaziland                    1148.376626     1244.708364     1856.182125   \n",
      "Tanzania                      716.650072      698.535607      722.003807   \n",
      "Togo                          859.808657      925.908320     1067.534810   \n",
      "Tunisia                      1468.475631     1395.232468     1660.303210   \n",
      "Uganda                        734.753484      774.371069      767.271740   \n",
      "Zambia                       1147.388831     1311.956766     1452.725766   \n",
      "Zimbabwe                      406.884115      518.764268      527.272182   \n",
      "\n",
      "                          gdpPercap_1967  gdpPercap_1972  gdpPercap_1977  \\\n",
      "country                                                                    \n",
      "Algeria                      3246.991771     4182.663766     4910.416756   \n",
      "Angola                       5522.776375     5473.288005     3008.647355   \n",
      "Benin                        1035.831411     1085.796879     1029.161251   \n",
      "Botswana                     1214.709294     2263.611114     3214.857818   \n",
      "Burkina Faso                  794.826560      854.735976      743.387037   \n",
      "Burundi                       412.977514      464.099504      556.103265   \n",
      "Cameroon                     1508.453148     1684.146528     1783.432873   \n",
      "Central African Republic     1136.056615     1070.013275     1109.374338   \n",
      "Chad                         1196.810565     1104.103987     1133.984950   \n",
      "Comoros                      1876.029643     1937.577675     1172.603047   \n",
      "Congo Dem. Rep.               861.593242      904.896069      795.757282   \n",
      "Congo Rep.                   2677.939642     3213.152683     3259.178978   \n",
      "Cote d'Ivoire                2052.050473     2378.201111     2517.736547   \n",
      "Djibouti                     3020.050513     3694.212352     3081.761022   \n",
      "Egypt                        1814.880728     2024.008147     2785.493582   \n",
      "Equatorial Guinea             915.596003      672.412257      958.566812   \n",
      "Eritrea                       468.794970      514.324208      505.753808   \n",
      "Ethiopia                      516.118644      566.243944      556.808383   \n",
      "Gabon                        8358.761987    11401.948410    21745.573280   \n",
      "Gambia                        734.782912      756.086836      884.755251   \n",
      "Ghana                        1125.697160     1178.223708      993.223957   \n",
      "Guinea                        708.759541      741.666231      874.685864   \n",
      "Guinea-Bissau                 715.580640      820.224588      764.725963   \n",
      "Kenya                        1056.736457     1222.359968     1267.613204   \n",
      "Lesotho                       498.639026      496.581592      745.369541   \n",
      "Liberia                       713.603648      803.005454      640.322438   \n",
      "Libya                       18772.751690    21011.497210    21951.211760   \n",
      "Madagascar                   1634.047282     1748.562982     1544.228586   \n",
      "Malawi                        495.514781      584.621971      663.223677   \n",
      "Mali                          545.009887      581.368876      686.395269   \n",
      "Mauritania                   1421.145193     1586.851781     1497.492223   \n",
      "Mauritius                    2475.387562     2575.484158     3710.982963   \n",
      "Morocco                      1711.044770     1930.194975     2370.619976   \n",
      "Mozambique                    566.669154      724.917804      502.319733   \n",
      "Namibia                      3793.694753     3746.080948     3876.485958   \n",
      "Niger                        1054.384891      954.209236      808.897073   \n",
      "Nigeria                      1014.514104     1698.388838     1981.951806   \n",
      "Reunion                      4021.175739     5047.658563     4319.804067   \n",
      "Rwanda                        510.963714      590.580664      670.080601   \n",
      "Sao Tome and Principe        1384.840593     1532.985254     1737.561657   \n",
      "Senegal                      1612.404632     1597.712056     1561.769116   \n",
      "Sierra Leone                 1206.043465     1353.759762     1348.285159   \n",
      "Somalia                      1284.733180     1254.576127     1450.992513   \n",
      "South Africa                 7114.477971     7765.962636     8028.651439   \n",
      "Sudan                        1687.997641     1659.652775     2202.988423   \n",
      "Swaziland                    2613.101665     3364.836625     3781.410618   \n",
      "Tanzania                      848.218657      915.985059      962.492293   \n",
      "Togo                         1477.596760     1649.660188     1532.776998   \n",
      "Tunisia                      1932.360167     2753.285994     3120.876811   \n",
      "Uganda                        908.918522      950.735869      843.733137   \n",
      "Zambia                       1777.077318     1773.498265     1588.688299   \n",
      "Zimbabwe                      569.795071      799.362176      685.587682   \n",
      "\n",
      "                          gdpPercap_1982  gdpPercap_1987  gdpPercap_1992  \\\n",
      "country                                                                    \n",
      "Algeria                      5745.160213     5681.358539     5023.216647   \n",
      "Angola                       2756.953672     2430.208311     2627.845685   \n",
      "Benin                        1277.897616     1225.856010     1191.207681   \n",
      "Botswana                     4551.142150     6205.883850     7954.111645   \n",
      "Burkina Faso                  807.198586      912.063142      931.752773   \n",
      "Burundi                       559.603231      621.818819      631.699878   \n",
      "Cameroon                     2367.983282     2602.664206     1793.163278   \n",
      "Central African Republic      956.752991      844.876350      747.905525   \n",
      "Chad                          797.908101      952.386129     1058.064300   \n",
      "Comoros                      1267.100083     1315.980812     1246.907370   \n",
      "Congo Dem. Rep.               673.747818      672.774812      457.719181   \n",
      "Congo Rep.                   4879.507522     4201.194937     4016.239529   \n",
      "Cote d'Ivoire                2602.710169     2156.956069     1648.073791   \n",
      "Djibouti                     2879.468067     2880.102568     2377.156192   \n",
      "Egypt                        3503.729636     3885.460710     3794.755195   \n",
      "Equatorial Guinea             927.825343      966.896815     1132.055034   \n",
      "Eritrea                       524.875849      521.134133      582.858510   \n",
      "Ethiopia                      577.860747      573.741314      421.353465   \n",
      "Gabon                       15113.361940    11864.408440    13522.157520   \n",
      "Gambia                        835.809611      611.658861      665.624413   \n",
      "Ghana                         876.032569      847.006113      925.060154   \n",
      "Guinea                        857.250358      805.572472      794.348438   \n",
      "Guinea-Bissau                 838.123967      736.415392      745.539871   \n",
      "Kenya                        1348.225791     1361.936856     1341.921721   \n",
      "Lesotho                       797.263107      773.993214      977.486272   \n",
      "Liberia                       572.199569      506.113857      636.622919   \n",
      "Libya                       17364.275380    11770.589800     9640.138501   \n",
      "Madagascar                   1302.878658     1155.441948     1040.676190   \n",
      "Malawi                        632.803921      635.517363      563.200014   \n",
      "Mali                          618.014064      684.171558      739.014375   \n",
      "Mauritania                   1481.150189     1421.603576     1361.369784   \n",
      "Mauritius                    3688.037739     4783.586903     6058.253846   \n",
      "Morocco                      2702.620356     2755.046991     2948.047252   \n",
      "Mozambique                    462.211415      389.876185      410.896824   \n",
      "Namibia                      4191.100511     3693.731337     3804.537999   \n",
      "Niger                         909.722135      668.300023      581.182725   \n",
      "Nigeria                      1576.973750     1385.029563     1619.848217   \n",
      "Reunion                      5267.219353     5303.377488     6101.255823   \n",
      "Rwanda                        881.570647      847.991217      737.068595   \n",
      "Sao Tome and Principe        1890.218117     1516.525457     1428.777814   \n",
      "Senegal                      1518.479984     1441.720720     1367.899369   \n",
      "Sierra Leone                 1465.010784     1294.447788     1068.696278   \n",
      "Somalia                      1176.807031     1093.244963      926.960296   \n",
      "South Africa                 8568.266228     7825.823398     7225.069258   \n",
      "Sudan                        1895.544073     1507.819159     1492.197043   \n",
      "Swaziland                    3895.384018     3984.839812     3553.022400   \n",
      "Tanzania                      874.242607      831.822079      825.682454   \n",
      "Togo                         1344.577953     1202.201361     1034.298904   \n",
      "Tunisia                      3560.233174     3810.419296     4332.720164   \n",
      "Uganda                        682.266227      617.724406      644.170797   \n",
      "Zambia                       1408.678565     1213.315116     1210.884633   \n",
      "Zimbabwe                      788.855041      706.157306      693.420786   \n",
      "\n",
      "                          gdpPercap_1997  gdpPercap_2002  gdpPercap_2007  \n",
      "country                                                                   \n",
      "Algeria                      4797.295051     5288.040382     6223.367465  \n",
      "Angola                       2277.140884     2773.287312     4797.231267  \n",
      "Benin                        1232.975292     1372.877931     1441.284873  \n",
      "Botswana                     8647.142313    11003.605080    12569.851770  \n",
      "Burkina Faso                  946.294962     1037.645221     1217.032994  \n",
      "Burundi                       463.115148      446.403513      430.070692  \n",
      "Cameroon                     1694.337469     1934.011449     2042.095240  \n",
      "Central African Republic      740.506332      738.690607      706.016537  \n",
      "Chad                         1004.961353     1156.181860     1704.063724  \n",
      "Comoros                      1173.618235     1075.811558      986.147879  \n",
      "Congo Dem. Rep.               312.188423      241.165877      277.551859  \n",
      "Congo Rep.                   3484.164376     3484.061970     3632.557798  \n",
      "Cote d'Ivoire                1786.265407     1648.800823     1544.750112  \n",
      "Djibouti                     1895.016984     1908.260867     2082.481567  \n",
      "Egypt                        4173.181797     4754.604414     5581.180998  \n",
      "Equatorial Guinea            2814.480755     7703.495900    12154.089750  \n",
      "Eritrea                       913.470790      765.350001      641.369524  \n",
      "Ethiopia                      515.889401      530.053532      690.805576  \n",
      "Gabon                       14722.841880    12521.713920    13206.484520  \n",
      "Gambia                        653.730170      660.585600      752.749726  \n",
      "Ghana                        1005.245812     1111.984578     1327.608910  \n",
      "Guinea                        869.449767      945.583584      942.654211  \n",
      "Guinea-Bissau                 796.664468      575.704718      579.231743  \n",
      "Kenya                        1360.485021     1287.514732     1463.249282  \n",
      "Lesotho                      1186.147994     1275.184575     1569.331442  \n",
      "Liberia                       609.173951      531.482368      414.507341  \n",
      "Libya                        9467.446056     9534.677467    12057.499280  \n",
      "Madagascar                    986.295896      894.637082     1044.770126  \n",
      "Malawi                        692.275810      665.423119      759.349910  \n",
      "Mali                          790.257985      951.409752     1042.581557  \n",
      "Mauritania                   1483.136136     1579.019543     1803.151496  \n",
      "Mauritius                    7425.705295     9021.815894    10956.991120  \n",
      "Morocco                      2982.101858     3258.495584     3820.175230  \n",
      "Mozambique                    472.346077      633.617947      823.685621  \n",
      "Namibia                      3899.524260     4072.324751     4811.060429  \n",
      "Niger                         580.305209      601.074501      619.676892  \n",
      "Nigeria                      1624.941275     1615.286395     2013.977305  \n",
      "Reunion                      6071.941411     6316.165200     7670.122558  \n",
      "Rwanda                        589.944505      785.653765      863.088464  \n",
      "Sao Tome and Principe        1339.076036     1353.092390     1598.435089  \n",
      "Senegal                      1392.368347     1519.635262     1712.472136  \n",
      "Sierra Leone                  574.648158      699.489713      862.540756  \n",
      "Somalia                       930.596428      882.081822      926.141068  \n",
      "South Africa                 7479.188244     7710.946444     9269.657808  \n",
      "Sudan                        1632.210764     1993.398314     2602.394995  \n",
      "Swaziland                    3876.768460     4128.116943     4513.480643  \n",
      "Tanzania                      789.186223      899.074211     1107.482182  \n",
      "Togo                          982.286924      886.220577      882.969944  \n",
      "Tunisia                      4876.798614     5722.895655     7092.923025  \n",
      "Uganda                        816.559081      927.721002     1056.380121  \n",
      "Zambia                       1071.353818     1071.613938     1271.211593  \n",
      "Zimbabwe                      792.449960      672.038623      469.709298  >\n",
      "gapminder_gdp_asia.csv <bound method DataFrame.min of                     gdpPercap_1952  gdpPercap_1957  gdpPercap_1962  \\\n",
      "country                                                              \n",
      "Afghanistan             779.445314      820.853030      853.100710   \n",
      "Bahrain                9867.084765    11635.799450    12753.275140   \n",
      "Bangladesh              684.244172      661.637458      686.341554   \n",
      "Cambodia                368.469286      434.038336      496.913648   \n",
      "China                   400.448611      575.987001      487.674018   \n",
      "Hong Kong China        3054.421209     3629.076457     4692.648272   \n",
      "India                   546.565749      590.061996      658.347151   \n",
      "Indonesia               749.681655      858.900271      849.289770   \n",
      "Iran                   3035.326002     3290.257643     4187.329802   \n",
      "Iraq                   4129.766056     6229.333562     8341.737815   \n",
      "Israel                 4086.522128     5385.278451     7105.630706   \n",
      "Japan                  3216.956347     4317.694365     6576.649461   \n",
      "Jordan                 1546.907807     1886.080591     2348.009158   \n",
      "Korea Dem. Rep.        1088.277758     1571.134655     1621.693598   \n",
      "Korea Rep.             1030.592226     1487.593537     1536.344387   \n",
      "Kuwait               108382.352900   113523.132900    95458.111760   \n",
      "Lebanon                4834.804067     6089.786934     5714.560611   \n",
      "Malaysia               1831.132894     1810.066992     2036.884944   \n",
      "Mongolia                786.566857      912.662609     1056.353958   \n",
      "Myanmar                 331.000000      350.000000      388.000000   \n",
      "Nepal                   545.865723      597.936356      652.396859   \n",
      "Oman                   1828.230307     2242.746551     2924.638113   \n",
      "Pakistan                684.597144      747.083529      803.342742   \n",
      "Philippines            1272.880995     1547.944844     1649.552153   \n",
      "Saudi Arabia           6459.554823     8157.591248    11626.419750   \n",
      "Singapore              2315.138227     2843.104409     3674.735572   \n",
      "Sri Lanka              1083.532030     1072.546602     1074.471960   \n",
      "Syria                  1643.485354     2117.234893     2193.037133   \n",
      "Taiwan                 1206.947913     1507.861290     1822.879028   \n",
      "Thailand                757.797418      793.577415     1002.199172   \n",
      "Vietnam                 605.066492      676.285448      772.049160   \n",
      "West Bank and Gaza     1515.592329     1827.067742     2198.956312   \n",
      "Yemen Rep.              781.717576      804.830455      825.623201   \n",
      "\n",
      "                    gdpPercap_1967  gdpPercap_1972  gdpPercap_1977  \\\n",
      "country                                                              \n",
      "Afghanistan             836.197138      739.981106      786.113360   \n",
      "Bahrain               14804.672700    18268.658390    19340.101960   \n",
      "Bangladesh              721.186086      630.233627      659.877232   \n",
      "Cambodia                523.432314      421.624026      524.972183   \n",
      "China                   612.705693      676.900092      741.237470   \n",
      "Hong Kong China        6197.962814     8315.928145    11186.141250   \n",
      "India                   700.770611      724.032527      813.337323   \n",
      "Indonesia               762.431772     1111.107907     1382.702056   \n",
      "Iran                   5906.731805     9613.818607    11888.595080   \n",
      "Iraq                   8931.459811     9576.037596    14688.235070   \n",
      "Israel                 8393.741404    12786.932230    13306.619210   \n",
      "Japan                  9847.788607    14778.786360    16610.377010   \n",
      "Jordan                 2741.796252     2110.856309     2852.351568   \n",
      "Korea Dem. Rep.        2143.540609     3701.621503     4106.301249   \n",
      "Korea Rep.             2029.228142     3030.876650     4657.221020   \n",
      "Kuwait                80894.883260   109347.867000    59265.477140   \n",
      "Lebanon                6006.983042     7486.384341     8659.696836   \n",
      "Malaysia               2277.742396     2849.094780     3827.921571   \n",
      "Mongolia               1226.041130     1421.741975     1647.511665   \n",
      "Myanmar                 349.000000      357.000000      371.000000   \n",
      "Nepal                   676.442225      674.788130      694.112440   \n",
      "Oman                   4720.942687    10618.038550    11848.343920   \n",
      "Pakistan                942.408259     1049.938981     1175.921193   \n",
      "Philippines            1814.127430     1989.374070     2373.204287   \n",
      "Saudi Arabia          16903.048860    24837.428650    34167.762600   \n",
      "Singapore              4977.418540     8597.756202    11210.089480   \n",
      "Sri Lanka              1135.514326     1213.395530     1348.775651   \n",
      "Syria                  1881.923632     2571.423014     3195.484582   \n",
      "Taiwan                 2643.858681     4062.523897     5596.519826   \n",
      "Thailand               1295.460660     1524.358936     1961.224635   \n",
      "Vietnam                 637.123289      699.501644      713.537120   \n",
      "West Bank and Gaza     2649.715007     3133.409277     3682.831494   \n",
      "Yemen Rep.              862.442146     1265.047031     1829.765177   \n",
      "\n",
      "                    gdpPercap_1982  gdpPercap_1987  gdpPercap_1992  \\\n",
      "country                                                              \n",
      "Afghanistan             978.011439      852.395945      649.341395   \n",
      "Bahrain               19211.147310    18524.024060    19035.579170   \n",
      "Bangladesh              676.981866      751.979403      837.810164   \n",
      "Cambodia                624.475478      683.895573      682.303175   \n",
      "China                   962.421380     1378.904018     1655.784158   \n",
      "Hong Kong China       14560.530510    20038.472690    24757.603010   \n",
      "India                   855.723538      976.512676     1164.406809   \n",
      "Indonesia              1516.872988     1748.356961     2383.140898   \n",
      "Iran                   7608.334602     6642.881371     7235.653188   \n",
      "Iraq                  14517.907110    11643.572680     3745.640687   \n",
      "Israel                15367.029200    17122.479860    18051.522540   \n",
      "Japan                 19384.105710    22375.941890    26824.895110   \n",
      "Jordan                 4161.415959     4448.679912     3431.593647   \n",
      "Korea Dem. Rep.        4106.525293     4106.492315     3726.063507   \n",
      "Korea Rep.             5622.942464     8533.088805    12104.278720   \n",
      "Kuwait                31354.035730    28118.429980    34932.919590   \n",
      "Lebanon                7640.519521     5377.091329     6890.806854   \n",
      "Malaysia               4920.355951     5249.802653     7277.912802   \n",
      "Mongolia               2000.603139     2338.008304     1785.402016   \n",
      "Myanmar                 424.000000      385.000000      347.000000   \n",
      "Nepal                   718.373095      775.632450      897.740360   \n",
      "Oman                  12954.791010    18115.223130    18616.706910   \n",
      "Pakistan               1443.429832     1704.686583     1971.829464   \n",
      "Philippines            2603.273765     2189.634995     2279.324017   \n",
      "Saudi Arabia          33693.175250    21198.261360    24841.617770   \n",
      "Singapore             15169.161120    18861.530810    24769.891200   \n",
      "Sri Lanka              1648.079789     1876.766827     2153.739222   \n",
      "Syria                  3761.837715     3116.774285     3340.542768   \n",
      "Taiwan                 7426.354774    11054.561750    15215.657900   \n",
      "Thailand               2393.219781     2982.653773     4616.896545   \n",
      "Vietnam                 707.235786      820.799445      989.023149   \n",
      "West Bank and Gaza     4336.032082     5107.197384     6017.654756   \n",
      "Yemen Rep.             1977.557010     1971.741538     1879.496673   \n",
      "\n",
      "                    gdpPercap_1997  gdpPercap_2002  gdpPercap_2007  \n",
      "country                                                             \n",
      "Afghanistan             635.341351      726.734055      974.580338  \n",
      "Bahrain               20292.016790    23403.559270    29796.048340  \n",
      "Bangladesh              972.770035     1136.390430     1391.253792  \n",
      "Cambodia                734.285170      896.226015     1713.778686  \n",
      "China                  2289.234136     3119.280896     4959.114854  \n",
      "Hong Kong China       28377.632190    30209.015160    39724.978670  \n",
      "India                  1458.817442     1746.769454     2452.210407  \n",
      "Indonesia              3119.335603     2873.912870     3540.651564  \n",
      "Iran                   8263.590301     9240.761975    11605.714490  \n",
      "Iraq                   3076.239795     4390.717312     4471.061906  \n",
      "Israel                20896.609240    21905.595140    25523.277100  \n",
      "Japan                 28816.584990    28604.591900    31656.068060  \n",
      "Jordan                 3645.379572     3844.917194     4519.461171  \n",
      "Korea Dem. Rep.        1690.756814     1646.758151     1593.065480  \n",
      "Korea Rep.            15993.527960    19233.988180    23348.139730  \n",
      "Kuwait                40300.619960    35110.105660    47306.989780  \n",
      "Lebanon                8754.963850     9313.938830    10461.058680  \n",
      "Malaysia              10132.909640    10206.977940    12451.655800  \n",
      "Mongolia               1902.252100     2140.739323     3095.772271  \n",
      "Myanmar                 415.000000      611.000000      944.000000  \n",
      "Nepal                  1010.892138     1057.206311     1091.359778  \n",
      "Oman                  19702.055810    19774.836870    22316.192870  \n",
      "Pakistan               2049.350521     2092.712441     2605.947580  \n",
      "Philippines            2536.534925     2650.921068     3190.481016  \n",
      "Saudi Arabia          20586.690190    19014.541180    21654.831940  \n",
      "Singapore             33519.476600    36023.105400    47143.179640  \n",
      "Sri Lanka              2664.477257     3015.378833     3970.095407  \n",
      "Syria                  4014.238972     4090.925331     4184.548089  \n",
      "Taiwan                20206.820980    23235.423290    28718.276840  \n",
      "Thailand               5852.625497     5913.187529     7458.396327  \n",
      "Vietnam                1385.896769     1764.456677     2441.576404  \n",
      "West Bank and Gaza     7110.667619     4515.487575     3025.349798  \n",
      "Yemen Rep.             2117.484526     2234.820827     2280.769906  >\n",
      "gapminder_gdp_oceania.csv <bound method DataFrame.min of              gdpPercap_1952  gdpPercap_1957  gdpPercap_1962  gdpPercap_1967  \\\n",
      "country                                                                       \n",
      "Australia       10039.59564     10949.64959     12217.22686     14526.12465   \n",
      "New Zealand     10556.57566     12247.39532     13175.67800     14463.91893   \n",
      "\n",
      "             gdpPercap_1972  gdpPercap_1977  gdpPercap_1982  gdpPercap_1987  \\\n",
      "country                                                                       \n",
      "Australia       16788.62948     18334.19751     19477.00928     21888.88903   \n",
      "New Zealand     16046.03728     16233.71770     17632.41040     19007.19129   \n",
      "\n",
      "             gdpPercap_1992  gdpPercap_1997  gdpPercap_2002  gdpPercap_2007  \n",
      "country                                                                      \n",
      "Australia       23424.76683     26997.93657     30687.75473     34435.36744  \n",
      "New Zealand     18363.32494     21050.41377     23189.80135     25185.00911  >\n"
     ]
    }
   ],
   "source": [
    "import pandas as pd\n",
    "\n",
    "for each_filename in ['gapminder_gdp_africa.csv', 'gapminder_gdp_asia.csv', 'gapminder_gdp_oceania.csv']:\n",
    "    data_combined = pd.read_csv(each_filename, index_col='country')\n",
    "    print(each_filename, data_combined.min)"
   ]
  },
  {
   "cell_type": "code",
   "execution_count": 402,
   "metadata": {},
   "outputs": [
    {
     "name": "stdout",
     "output_type": "stream",
     "text": [
      "['gapminder_gdp_africa.csv', 'gapminder_gdp_americas.csv', 'gapminder_gdp_asia.csv', 'gapminder_gdp_europe.csv', 'gapminder_gdp_oceania.csv']\n",
      "gdpPercap_1952    298.846212\n",
      "gdpPercap_1957    335.997115\n",
      "gdpPercap_1962    355.203227\n",
      "gdpPercap_1967    412.977514\n",
      "gdpPercap_1972    464.099504\n",
      "gdpPercap_1977    502.319733\n",
      "gdpPercap_1982    462.211415\n",
      "gdpPercap_1987    389.876185\n",
      "gdpPercap_1992    410.896824\n",
      "gdpPercap_1997    312.188423\n",
      "gdpPercap_2002    241.165877\n",
      "gdpPercap_2007    277.551859\n",
      "dtype: float64\n",
      "continent         Americas\n",
      "gdpPercap_1952     1397.72\n",
      "gdpPercap_1957      1544.4\n",
      "gdpPercap_1962     1662.14\n",
      "gdpPercap_1967     1452.06\n",
      "gdpPercap_1972     1654.46\n",
      "gdpPercap_1977      1874.3\n",
      "gdpPercap_1982     2011.16\n",
      "gdpPercap_1987     1823.02\n",
      "gdpPercap_1992     1456.31\n",
      "gdpPercap_1997     1341.73\n",
      "gdpPercap_2002     1270.36\n",
      "gdpPercap_2007     1201.64\n",
      "dtype: object\n",
      "gdpPercap_1952    331.0\n",
      "gdpPercap_1957    350.0\n",
      "gdpPercap_1962    388.0\n",
      "gdpPercap_1967    349.0\n",
      "gdpPercap_1972    357.0\n",
      "gdpPercap_1977    371.0\n",
      "gdpPercap_1982    424.0\n",
      "gdpPercap_1987    385.0\n",
      "gdpPercap_1992    347.0\n",
      "gdpPercap_1997    415.0\n",
      "gdpPercap_2002    611.0\n",
      "gdpPercap_2007    944.0\n",
      "dtype: float64\n",
      "gdpPercap_1952     973.533195\n",
      "gdpPercap_1957    1353.989176\n",
      "gdpPercap_1962    1709.683679\n",
      "gdpPercap_1967    2172.352423\n",
      "gdpPercap_1972    2860.169750\n",
      "gdpPercap_1977    3528.481305\n",
      "gdpPercap_1982    3630.880722\n",
      "gdpPercap_1987    3738.932735\n",
      "gdpPercap_1992    2497.437901\n",
      "gdpPercap_1997    3193.054604\n",
      "gdpPercap_2002    4604.211737\n",
      "gdpPercap_2007    5937.029526\n",
      "dtype: float64\n",
      "gdpPercap_1952    10039.59564\n",
      "gdpPercap_1957    10949.64959\n",
      "gdpPercap_1962    12217.22686\n",
      "gdpPercap_1967    14463.91893\n",
      "gdpPercap_1972    16046.03728\n",
      "gdpPercap_1977    16233.71770\n",
      "gdpPercap_1982    17632.41040\n",
      "gdpPercap_1987    19007.19129\n",
      "gdpPercap_1992    18363.32494\n",
      "gdpPercap_1997    21050.41377\n",
      "gdpPercap_2002    23189.80135\n",
      "gdpPercap_2007    25185.00911\n",
      "dtype: float64\n"
     ]
    }
   ],
   "source": [
    "import glob\n",
    "\n",
    "print(glob.glob('*gdp*.csv'))\n",
    "\n",
    "files = glob.glob('*gdp*.csv')\n",
    "\n",
    "for filename in files:\n",
    "    data = pd.read_csv(filename, index_col='country')\n",
    "    print(data.min())"
   ]
  }
 ],
 "metadata": {
  "kernelspec": {
   "display_name": "Python 3",
   "language": "python",
   "name": "python3"
  },
  "language_info": {
   "codemirror_mode": {
    "name": "ipython",
    "version": 3
   },
   "file_extension": ".py",
   "mimetype": "text/x-python",
   "name": "python",
   "nbconvert_exporter": "python",
   "pygments_lexer": "ipython3",
   "version": "3.6.5"
  }
 },
 "nbformat": 4,
 "nbformat_minor": 2
}
